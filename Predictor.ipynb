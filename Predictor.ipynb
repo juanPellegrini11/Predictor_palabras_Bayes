{
 "cells": [
  {
   "cell_type": "markdown",
   "metadata": {},
   "source": [
    "## Importaciones necesarias"
   ]
  },
  {
   "cell_type": "code",
   "execution_count": 122,
   "metadata": {},
   "outputs": [],
   "source": [
    "import numpy as np\n",
    "import pandas as pd\n",
    "import re\n",
    "import matplotlib.pyplot as plt"
   ]
  },
  {
   "cell_type": "markdown",
   "metadata": {},
   "source": [
    "## Carga de archivos\n",
    "Para poder ejecutar el código es necesario cargar un archivo de nombre 'Chats.csv' y el archivo 'diccionario.txt' suministrado por el equipo.\n",
    "\n",
    "Los mismos deben ser alojados en la carpeta donde se encuentra este script.\n",
    "\n",
    "Tener en cuenta que puede ser necesario cambiar el tipo de encoding (primera linea de la celda a continuación) y los chats deben estar en formato csv."
   ]
  },
  {
   "cell_type": "code",
   "execution_count": 91,
   "metadata": {},
   "outputs": [],
   "source": [
    "encoding = 'UTF-8'\n",
    "# Se cargan los chats en un dataframe\n",
    "df_chats = pd.read_csv('./Chats.csv', delimiter = ': ', encoding = encoding, on_bad_lines='skip', engine='python')\n",
    "\n",
    "# Se separan los chats en dos columnas: una con fecha, hora y emisor y otra con el mensaje\n",
    "df_chats.columns = ['hora_usuario', 'Mensaje']\n",
    "\n",
    "# Se elimina columna con fecha, hora y emisor para hacer menos pesado el dataframe\n",
    "df_chats.drop(columns = ['hora_usuario'], inplace = True)\n",
    "\n",
    "# Se carga el diccionario\n",
    "with open(\"./diccionario.txt\", \"r\", encoding=\"utf-8\") as archivo:\n",
    "    diccionario = set(line.strip() for line in archivo)"
   ]
  },
  {
   "cell_type": "markdown",
   "metadata": {},
   "source": [
    "## 2. Diseño"
   ]
  },
  {
   "cell_type": "markdown",
   "metadata": {},
   "source": [
    "### 2.1 Preprocesamiento\n",
    "En esta etapa se consideran dos enfoques:\n",
    "- Preprocesar los mensajes aceptando estas imperfecciones.\n",
    "- Preprocesar los mensajes de manera que se corrijan la mayoría de palabras incorrectamente redactadas."
   ]
  },
  {
   "cell_type": "code",
   "execution_count": 92,
   "metadata": {},
   "outputs": [],
   "source": [
    "def clean_text(df, column_name, diccionario = (), excluir_tildes = True):\n",
    "    '''Recibe un dataframe de chats, el nombre de la columna de mensajes y un diccionario (opcional) \n",
    "    y retorna una lista de chats donde cada chat es una lista de palabras'''\n",
    "    \n",
    "    # Convertimos la columna al tipo de dato string\n",
    "    df[column_name] = df[column_name].astype(str)\n",
    "\n",
    "    # Convertir todo a minúsculas\n",
    "    df[column_name] = df[column_name].str.lower()\n",
    "\n",
    "    # Eliminar el carácter \\u200e\n",
    "    df[column_name] = df[column_name].str.replace('\\u200e', '')\n",
    "\n",
    "    # Eliminar caracteres que no son letras\n",
    "    df[column_name] = df[column_name].apply(lambda x: re.sub(r'[.,!?¿¡;:\"\\'\\(\\)\\[\\]{}-]', '', x))\n",
    "\n",
    "    # Realizar sustituciones de patrones de texto\n",
    "    sustituciones = {'https?\\S+': '(URL)', ' xq ': ' porque ', '[Jj][Aa]{2,}': 'jaja', ' d ': ' de ', ' k ': ' que ', r'(\\w)(\\1{2,})': r'\\1', ' bue ': ' bueno '}\n",
    "    for expresion, sustitucion in sustituciones.items():\n",
    "        df[column_name] = df[column_name].apply(lambda x: re.sub(expresion, sustitucion, x))\n",
    "\n",
    "    if excluir_tildes:\n",
    "        # Remplazar vocales con tilde por vocales sin tilde\n",
    "        for letra_con_tilde, letra_sin_tilde in {'á': 'a', 'é': 'e', 'í': 'i', 'ó': 'o', 'ú': 'u'}.items():\n",
    "            df[column_name] = df[column_name].str.replace(letra_con_tilde, letra_sin_tilde)\n",
    "\n",
    "    # Eliminamos fila de texto no limpio, luego eliminamos filas que no contengan mensajes\n",
    "    df = df[~df[column_name].isin([None, 'sticker omitido', 'imagen omitida', 'audio omitido'])]\n",
    "    df = df[~df[column_name].str.contains('<multimedia omitido>')]\n",
    "    df = df[~df[column_name].str.contains('none')]\n",
    "\n",
    "    # Convierte párrafos en listas \"palabra1 palabra2 palabra3\" -> [\"palabra1\", \"palabra2\", \"palabra3\"]\n",
    "    df[column_name] = df[column_name].str.split()\n",
    "\n",
    "    # Pasamos a crear una lista de listas con los chats\n",
    "    lista_chats = df[column_name].values.tolist()\n",
    "\n",
    "    if diccionario:\n",
    "      # Filtrar la lista de listas X\n",
    "      lista_chats = [[palabra for palabra in lista if palabra.lower() in diccionario] for lista in lista_chats]\n",
    "    \n",
    "    # Eliminar las listas vacías utilizando una comprensión de lista\n",
    "    lista_chats = [sublista for sublista in lista_chats if sublista]\n",
    "    \n",
    "    return lista_chats"
   ]
  },
  {
   "cell_type": "markdown",
   "metadata": {},
   "source": [
    "### 2.2 Algoritmo"
   ]
  },
  {
   "cell_type": "markdown",
   "metadata": {},
   "source": [
    "Función que construye un diccionario con probabilidades condicionales y otro con probabilidades previas. Estos son los que luego se utilizan para calcular la probabilidad máxima a posteriori y definir la palabra más probable."
   ]
  },
  {
   "cell_type": "code",
   "execution_count": 93,
   "metadata": {},
   "outputs": [],
   "source": [
    "def obtener_probabilidades_condicionales(lista_chats, N, m, usar_tf_idf):\n",
    "  '''A partir de una lista de mensajes, el hiperparámetro N (últimas palabras), el valor del m-estimador y el booleano usar_tf_idf\n",
    "  devuelve un diccionario con las probabilidades condicionales dada cada palabra y otro con las probabilidades previas por palabra (este último\n",
    "  calculado utilizando la frecuencia de cada palabra o el algoritmo tf_idf)'''\n",
    "  \n",
    "  # Obtención de un diccionario intermedio de frecuencia de cada palabra\n",
    "  diccionario_de_frecuencias = {}\n",
    "  for lista in lista_chats:\n",
    "    # Recorremos cada palabra en la lista\n",
    "    for palabra in lista:\n",
    "      if palabra not in diccionario_de_frecuencias:\n",
    "        diccionario_de_frecuencias[palabra] = 1\n",
    "      else:\n",
    "        # Incrementamos la frecuencia de la palabra en el diccionario\n",
    "        diccionario_de_frecuencias[palabra] += 1\n",
    "\n",
    "  # Calculo del total de palabras en la lista de chats\n",
    "  total_palabras = sum(diccionario_de_frecuencias.values())\n",
    "  \n",
    "  # Obtención del diccionario de probabilidades previas\n",
    "  probabilidades_previas = {}\n",
    "  for palabra, frecuencia_palabra in diccionario_de_frecuencias.items():\n",
    "    # Si se utiliza tf_idf\n",
    "    if usar_tf_idf:\n",
    "      tf_idf_palabra = []\n",
    "      tf_palabra = []\n",
    "      documentos_con_palabra = 0\n",
    "      for chat in lista_chats:\n",
    "        tf_palabra.append(np.log(1 + chat.count(palabra)))\n",
    "        if palabra in chat:\n",
    "          documentos_con_palabra += 1\n",
    "      idf = np.log(documentos_con_palabra/len(lista_chats))\n",
    "      for tf in tf_palabra:\n",
    "        tf_idf_palabra.append(tf*idf)\n",
    "      probabilidades_previas[palabra] = sum(tf_idf_palabra)/len(tf_idf_palabra)\n",
    "    # Si se utiliza la frecuencia de cada palabra\n",
    "    else:\n",
    "      probabilidades_previas[palabra] = frecuencia_palabra/total_palabras\n",
    "\n",
    "  # Obtención de las probabilidades condicionales\n",
    "  probabilidades_condicionales = {}\n",
    "  cantidad_posibles_palabras = len(diccionario_de_frecuencias)\n",
    "  for chat in lista_chats:\n",
    "    for palabra_hipotesis in chat:\n",
    "      diccionario_por_palabra = {}\n",
    "      frecuencia_palabra_hipotesis = diccionario_de_frecuencias[palabra_hipotesis]\n",
    "      if palabra_hipotesis not in probabilidades_condicionales:\n",
    "        probabilidades_condicionales[palabra_hipotesis] = diccionario_por_palabra\n",
    "        probabilidades_condicionales[palabra_hipotesis]['P_nada'] = (m*(1/cantidad_posibles_palabras))/(frecuencia_palabra_hipotesis + m)\n",
    "      indice_palabra = chat.index(palabra_hipotesis)\n",
    "      # Si N es más grande que la cantidad de palabras previas en el chat se consideran todas las palabras\n",
    "      if indice_palabra - N >= 0:\n",
    "        palabras_previas = chat[indice_palabra - N:indice_palabra]\n",
    "      else:\n",
    "        palabras_previas = chat[:indice_palabra]\n",
    "      # Si en el chat hay una palabra que aparece más de una vez se cuenta como una\n",
    "      palabras_previas_unicas = []\n",
    "      [palabras_previas_unicas.append(x) for x in palabras_previas if x not in palabras_previas_unicas]\n",
    "      # Se calcula y guarda la probabilidad condicional de cada palabra dada una palabra\n",
    "      for palabra_previa in palabras_previas_unicas:\n",
    "        if palabra_previa in probabilidades_condicionales[palabra_hipotesis]:\n",
    "          update = probabilidades_condicionales[palabra_hipotesis][palabra_previa] + 1/(frecuencia_palabra_hipotesis + m)\n",
    "        update = (1 + m*(1/cantidad_posibles_palabras))/(frecuencia_palabra_hipotesis + m)\n",
    "        probabilidades_condicionales[palabra_hipotesis].update({palabra_previa : update})\n",
    "  return probabilidades_condicionales, probabilidades_previas"
   ]
  },
  {
   "cell_type": "markdown",
   "metadata": {},
   "source": [
    "Función utilizada para predecir la siguiente palabra"
   ]
  },
  {
   "cell_type": "code",
   "execution_count": 94,
   "metadata": {},
   "outputs": [],
   "source": [
    "#debemos setear el valor del hiperparámetro palabra_anteriores, que es el que determina cuántas de las palbras anteriores considerar para calcular la probabilidad a posteriori\n",
    "def recomendacion_bayesiana(frase, N, usar_prob_logaritmicas, probabilidades_condicionales, probabilidades_previas):\n",
    "    if N < 1 or N > 5:\n",
    "        raise ValueError(\"El número de palabras anteriores debe estar entre 1 y 5\")\n",
    "\n",
    "    # Tomar solo la cantidad de palabras_anteriores indicadas en el hiperparámetro o menos en caso de que no haya tantas\n",
    "    lista_frase = [word for phrase in frase for word in phrase.split()]\n",
    "\n",
    "    # Si N es más grande que la cantidad de palabras previas en la frase se consideran todas las palabras\n",
    "    if len(lista_frase) < N:\n",
    "        lista_frase = lista_frase\n",
    "    else:\n",
    "        lista_frase = lista_frase[-N:]\n",
    "    \n",
    "    \n",
    "    P = probabilidades_condicionales\n",
    "    h_MAP = \"\"\n",
    "    p_MAP = 0\n",
    "    for h in P:\n",
    "      prob = probabilidades_previas[h]\n",
    "      P_nada = P[h]['P_nada']\n",
    "      for palabra in lista_frase:\n",
    "        if usar_prob_logaritmicas:\n",
    "          prob = np.log(prob) + np.log(P[h].get(palabra, P_nada))\n",
    "        else:\n",
    "          prob = prob * P[h].get(palabra, P_nada)\n",
    "      if prob > p_MAP:\n",
    "        h_MAP , p_MAP = h , prob\n",
    "\n",
    "    return h_MAP, p_MAP"
   ]
  },
  {
   "cell_type": "markdown",
   "metadata": {},
   "source": [
    "### 2.3 Evaluación"
   ]
  },
  {
   "cell_type": "markdown",
   "metadata": {},
   "source": [
    "Función utilizada para evaluar las palabras sugeridas y probabilidades al variar los distintos parámetros."
   ]
  },
  {
   "cell_type": "code",
   "execution_count": 98,
   "metadata": {},
   "outputs": [],
   "source": [
    "def evaluar(lista_chats_train, lista_chats_test, N, m, usar_tf_idf, usar_prob_logaritmicas):\n",
    "  probabilidades_condicionales, probabilidades_previas = obtener_probabilidades_condicionales(lista_chats_train, N, m, False)\n",
    "  promedios = []\n",
    "  medianas = []\n",
    "  for palabra_h in probabilidades_condicionales:\n",
    "    valores = probabilidades_condicionales[palabra_h].values()\n",
    "    n = len(valores)\n",
    "    # Calcular el promedio\n",
    "    promedio_valores_palabra_h = sum(valores)/n\n",
    "    promedios.append(promedio_valores_palabra_h)\n",
    "    # Calcular la mediana\n",
    "    valores_ordenados = sorted(valores)\n",
    "    if n % 2 == 0:\n",
    "      mediana_valores_palabra_h = (valores_ordenados[n // 2 - 1] + valores_ordenados[n // 2]) / 2\n",
    "    else:\n",
    "      mediana_valores_palabra_h = valores_ordenados[n // 2]\n",
    "    medianas.append(mediana_valores_palabra_h)\n",
    "  promedio_prob_palabras = sum(promedios)/len(promedios)\n",
    "  medianas_ordenadas = sorted(medianas)\n",
    "  n_medianas = len(medianas_ordenadas)\n",
    "  if n_medianas % 2 == 0:\n",
    "    mediana_prob_palabras = (medianas_ordenadas[n_medianas // 2 - 1] + medianas_ordenadas[n_medianas // 2]) / 2\n",
    "  else:\n",
    "    mediana_prob_palabras = medianas_ordenadas[n_medianas // 2]\n",
    "  palabras_sugeridas = []\n",
    "  probabilidades = []\n",
    "  for chat_test in lista_chats_test:\n",
    "    palabra_sugerida, probabilidad = recomendacion_bayesiana(chat_test, N, usar_prob_logaritmicas, probabilidades_condicionales, probabilidades_previas)\n",
    "    palabras_sugeridas.append(palabra_sugerida)\n",
    "    probabilidades.append(probabilidad)\n",
    "  return palabras_sugeridas, probabilidades"
   ]
  },
  {
   "cell_type": "code",
   "execution_count": null,
   "metadata": {},
   "outputs": [],
   "source": [
    "def evaluacion_accuracy(y_verdaderas, y_estimadas):\n",
    "  predicciones_correctas = 0\n",
    "  total_predicciones = len(y_verdaderas)\n",
    "\n",
    "  # Compara las predicciones con las etiquetas verdaderas\n",
    "  for palabra_real, palabra_estimada in zip(y_verdaderas, y_estimadas):\n",
    "      if palabra_real == palabra_estimada:\n",
    "          predicciones_correctas += 1\n",
    "\n",
    "  # Calcula la precisión\n",
    "  return predicciones_correctas / total_predicciones * 100"
   ]
  },
  {
   "cell_type": "markdown",
   "metadata": {},
   "source": [
    "### 3. Experimentación"
   ]
  },
  {
   "cell_type": "code",
   "execution_count": 108,
   "metadata": {},
   "outputs": [],
   "source": [
    "lista_chats_lang_flexible = clean_text(df_chats, 'Mensaje', diccionario = (), excluir_tildes = True)\n",
    "lista_chats_lang_correcto_excluyendo_tildes = clean_text(df_chats, 'Mensaje', diccionario = diccionario, excluir_tildes = True)\n",
    "lista_chats_lang_correcto = clean_text(df_chats, 'Mensaje', diccionario = diccionario, excluir_tildes = False)\n",
    "\n",
    "# Genero aleatoriedad en el orden de los chats\n",
    "seed_value = 42\n",
    "np.random.seed(seed_value)\n",
    "np.random.shuffle(lista_chats_lang_flexible)\n",
    "np.random.shuffle(lista_chats_lang_correcto_excluyendo_tildes)\n",
    "np.random.shuffle(lista_chats_lang_correcto)\n",
    "\n",
    "# Defino las proporciones de chats_train y val\n",
    "tamanio_chats_flexible = len(lista_chats_lang_flexible)\n",
    "tamanio_chats_correcto_excluyendo_tildes = len(lista_chats_lang_correcto_excluyendo_tildes)\n",
    "tamanio_chats_correcto = len(lista_chats_lang_correcto)\n",
    "\n",
    "train_prop = 0.7\n",
    "val_prop = 0.1\n",
    "\n",
    "# Calculo el tamaño de cada set\n",
    "tamanio_train_flexible = int(train_prop * tamanio_chats_flexible)\n",
    "tamanio_val_flexible = int(val_prop * tamanio_chats_flexible)\n",
    "tamanio_train_correcto_excluyendo_tildes = int(train_prop * tamanio_chats_correcto_excluyendo_tildes)\n",
    "tamanio_val_correcto_excluyendo_tildes = int(val_prop * tamanio_chats_correcto_excluyendo_tildes)\n",
    "tamanio_train_correcto = int(train_prop * tamanio_chats_correcto)\n",
    "tamanio_val_correcto = int(val_prop * tamanio_chats_correcto)\n",
    "\n",
    "# Divido los chats en train, validacion y test\n",
    "train_flexible = lista_chats_lang_flexible[:tamanio_train_flexible]\n",
    "val_flexible = lista_chats_lang_flexible[tamanio_train_flexible:tamanio_train_flexible + tamanio_val_flexible]\n",
    "test_flexible = lista_chats_lang_flexible[tamanio_train_flexible + tamanio_val_flexible:]\n",
    "train_correcto_excluyendo_tildes = lista_chats_lang_flexible[:tamanio_train_correcto_excluyendo_tildes]\n",
    "val_correcto_excluyendo_tildes = lista_chats_lang_flexible[tamanio_train_correcto_excluyendo_tildes:tamanio_train_correcto_excluyendo_tildes + tamanio_val_correcto_excluyendo_tildes]\n",
    "test_correcto_excluyendo_tildes = lista_chats_lang_flexible[tamanio_train_correcto_excluyendo_tildes + tamanio_val_correcto_excluyendo_tildes:]\n",
    "train_correcto = lista_chats_lang_correcto[:tamanio_train_correcto]\n",
    "val_correcto = lista_chats_lang_correcto[tamanio_train_correcto:tamanio_train_correcto + tamanio_val_correcto]\n",
    "test_correcto = lista_chats_lang_correcto[tamanio_train_correcto + tamanio_val_correcto:]"
   ]
  },
  {
   "cell_type": "code",
   "execution_count": 109,
   "metadata": {},
   "outputs": [],
   "source": [
    "# Divido los sets de test quedandome con la última palabra de cada chat para luego evaluar si es predecida correctamente\n",
    "# Se obtiene la primera lista con todos los elementos excepto el último\n",
    "val_flexible_palabras_previas = [sublista[:-1] for sublista in val_flexible]\n",
    "val_correcto_excluyendo_tildes_palabras_previas = [sublista[:-1] for sublista in val_correcto_excluyendo_tildes]\n",
    "val_correcto_palabras_previas = [sublista[:-1] for sublista in val_correcto]\n",
    "test_flexible_palabras_previas = [sublista[:-1] for sublista in test_flexible]\n",
    "test_correcto_excluyendo_tildes_palabras_previas = [sublista[:-1] for sublista in test_correcto_excluyendo_tildes]\n",
    "test_correcto_palabras_previas = [sublista[:-1] for sublista in test_correcto]\n",
    "\n",
    "# Se obtiene la segunda lista con solo los últimos elementos\n",
    "val_flexible_ultima_palabra = [sublista[-1] for sublista in val_flexible]\n",
    "val_correcto_excluyendo_tildes_ultima_palabra = [sublista[-1] for sublista in val_correcto_excluyendo_tildes]\n",
    "val_correcto_ultima_palabra = [sublista[-1] for sublista in val_correcto]\n",
    "test_flexible_ultima_palabra = [sublista[-1] for sublista in test_flexible]\n",
    "test_correcto_excluyendo_tildes_ultima_palabra = [sublista[-1] for sublista in test_correcto_excluyendo_tildes]\n",
    "test_correcto_ultima_palabra = [sublista[-1] for sublista in test_correcto]"
   ]
  },
  {
   "cell_type": "code",
   "execution_count": 110,
   "metadata": {},
   "outputs": [
    {
     "name": "stdout",
     "output_type": "stream",
     "text": [
      "Accuracy utilizando lenguaje flexible: 0.57356608478803\n",
      "Accuracy utilizando lenguaje correcto: 0.6524317912218268\n",
      "Accuracy utilizando lenguaje correcto: 1.3641755634638197\n"
     ]
    }
   ],
   "source": [
    "palabras_estimadas_lang_flexible, probabilidades_lang_flexible = evaluar(train_flexible, val_flexible_palabras_previas, 1, 1, False, False)\n",
    "palabras_estimadas_lang_correcto_excluyendo_tildes, probabilidades_lang_correcto_excluyendo_tildes = evaluar(train_correcto_excluyendo_tildes, val_correcto_excluyendo_tildes_palabras_previas, 1, 1, False, False)\n",
    "palabras_estimadas_lang_correcto, probabilidades_lang_correcto = evaluar(train_correcto, val_correcto_palabras_previas, 1, 1, False, False)\n",
    "# evaluacion_accuracy\n",
    "accuracy_lang_flexible = evaluacion_accuracy(val_flexible_ultima_palabra, palabras_estimadas_lang_flexible)\n",
    "accuracy_lang_correcto_excluyendo_tildes = evaluacion_accuracy(val_correcto_excluyendo_tildes_ultima_palabra, palabras_estimadas_lang_correcto_excluyendo_tildes)\n",
    "accuracy_lang_correcto = evaluacion_accuracy(val_correcto_ultima_palabra, palabras_estimadas_lang_correcto)\n",
    "\n",
    "print(f'Accuracy utilizando lenguaje flexible: {accuracy_lang_flexible}')\n",
    "print(f'Accuracy utilizando lenguaje correcto: {accuracy_lang_correcto_excluyendo_tildes}')\n",
    "print(f'Accuracy utilizando lenguaje correcto: {accuracy_lang_correcto}')\n"
   ]
  },
  {
   "cell_type": "code",
   "execution_count": 107,
   "metadata": {},
   "outputs": [
    {
     "name": "stdout",
     "output_type": "stream",
     "text": [
      "Accuracy utilizando lenguaje correcto y N = 1: 1.3641755634638197\n",
      "Accuracy utilizando lenguaje correcto y N = 2: 1.3938315539739028\n",
      "Accuracy utilizando lenguaje correcto y N = 3: 1.3345195729537367\n",
      "Accuracy utilizando lenguaje correcto y N = 4: 1.0379596678529062\n"
     ]
    }
   ],
   "source": [
    "palabras_estimadas_N1, probabilidades_N1 = evaluar(train_correcto, val_correcto_palabras_previas, 1, 1, False, False)\n",
    "palabras_estimadas_N2, probabilidades_N2 = evaluar(train_correcto, val_correcto_palabras_previas, 2, 1, False, False)\n",
    "palabras_estimadas_N3, probabilidades_N3 = evaluar(train_correcto, val_correcto_palabras_previas, 3, 1, False, False)\n",
    "palabras_estimadas_N4, probabilidades_N4 = evaluar(train_correcto, val_correcto_palabras_previas, 4, 1, False, False)\n",
    "\n",
    "# evaluacion_accuracy\n",
    "accuracy_N1 = evaluacion_accuracy(val_correcto_ultima_palabra, palabras_estimadas_N1)\n",
    "accuracy_N2 = evaluacion_accuracy(val_correcto_ultima_palabra, palabras_estimadas_N2)\n",
    "accuracy_N3 = evaluacion_accuracy(val_correcto_ultima_palabra, palabras_estimadas_N3)\n",
    "accuracy_N4 = evaluacion_accuracy(val_correcto_ultima_palabra, palabras_estimadas_N4)\n",
    "\n",
    "print(f'Accuracy utilizando lenguaje correcto y N = 1: {accuracy_N1}')\n",
    "print(f'Accuracy utilizando lenguaje correcto y N = 2: {accuracy_N2}')\n",
    "print(f'Accuracy utilizando lenguaje correcto y N = 3: {accuracy_N3}')\n",
    "print(f'Accuracy utilizando lenguaje correcto y N = 4: {accuracy_N4}')\n"
   ]
  },
  {
   "cell_type": "code",
   "execution_count": 111,
   "metadata": {},
   "outputs": [
    {
     "name": "stdout",
     "output_type": "stream",
     "text": [
      "Accuracy utilizando m = 1: 1.3938315539739028\n",
      "Accuracy utilizando m = 5: 1.5124555160142348\n",
      "Accuracy utilizando m = cantidad de posibles palabras: 0.8896797153024912\n"
     ]
    }
   ],
   "source": [
    "palabras_unicas = set()\n",
    "\n",
    "# Itera a través de las listas de palabras y agrega cada palabra al conjunto\n",
    "for lista in train_correcto:\n",
    "    for palabra in lista:\n",
    "        palabras_unicas.add(palabra)\n",
    "\n",
    "# Calcula la cantidad de palabras únicas\n",
    "cantidad_palabras_unicas = len(palabras_unicas)\n",
    "\n",
    "palabras_estimadas_m1, probabilidades_m1 = evaluar(train_correcto, val_correcto_palabras_previas, 2, 1, False, False)\n",
    "palabras_estimadas_m5, probabilidades_m5 = evaluar(train_correcto, val_correcto_palabras_previas, 2, 5, False, False)\n",
    "palabras_estimadas_m_cant_palabras, probabilidades_m_cant_palabras = evaluar(train_correcto, val_correcto_palabras_previas, 2, cantidad_palabras_unicas, False, False)\n",
    "\n",
    "# evaluacion_accuracy\n",
    "accuracy__m1 = evaluacion_accuracy(val_correcto_ultima_palabra, palabras_estimadas_m1)\n",
    "accuracy_m5 = evaluacion_accuracy(val_correcto_ultima_palabra, palabras_estimadas_m5)\n",
    "accuracy_m_cant_palabras = evaluacion_accuracy(val_correcto_ultima_palabra, palabras_estimadas_m_cant_palabras)\n",
    "\n",
    "print(f'Accuracy utilizando m = 1: {accuracy__m1}')\n",
    "print(f'Accuracy utilizando m = 5: {accuracy_m5}')\n",
    "print(f'Accuracy utilizando m = cantidad de posibles palabras: {accuracy_m_cant_palabras}')\n"
   ]
  },
  {
   "cell_type": "code",
   "execution_count": 112,
   "metadata": {},
   "outputs": [
    {
     "name": "stderr",
     "output_type": "stream",
     "text": [
      "/var/folders/j4/fqqffb5178563_mtw59pydpw0000gn/T/ipykernel_82555/3008170168.py:24: RuntimeWarning: invalid value encountered in log\n",
      "  prob = np.log(prob) + np.log(P[h].get(palabra, P_nada))\n"
     ]
    },
    {
     "name": "stdout",
     "output_type": "stream",
     "text": [
      "Accuracy utilizando tf-idf: 1.5124555160142348\n",
      "Accuracy utilizando probabilidades logarítmicas: 0.05931198102016608\n",
      "Accuracy utilizando tf-idf y probabilidades logarítmicas: 0.05931198102016608\n"
     ]
    }
   ],
   "source": [
    "palabras_estimadas_tf_idf, probabilidades_tf_idf = evaluar(train_correcto, val_correcto_palabras_previas, 2, 5, True, False)\n",
    "palabras_estimadas_prob_logaritmicas, probabilidades_prob_logaritmicas = evaluar(train_correcto, val_correcto_palabras_previas, 2, 5, False, True)\n",
    "palabras_estimadas_tf_idf_prob_logaritmicas, probabilidades_tf_idf_prob_logaritmicas = evaluar(train_correcto, val_correcto_palabras_previas, 2, 5, True, True)\n",
    "\n",
    "# evaluacion_accuracy\n",
    "accuracy_tf_idf = evaluacion_accuracy(val_correcto_ultima_palabra, palabras_estimadas_tf_idf)\n",
    "accuracy_prob_logaritmicas = evaluacion_accuracy(val_correcto_ultima_palabra, palabras_estimadas_prob_logaritmicas)\n",
    "accuracy_tf_idf_prob_logaritmicas = evaluacion_accuracy(val_correcto_ultima_palabra, palabras_estimadas_tf_idf_prob_logaritmicas)\n",
    "\n",
    "print(f'Accuracy utilizando tf-idf: {accuracy_tf_idf}')\n",
    "print(f'Accuracy utilizando probabilidades logarítmicas: {accuracy_prob_logaritmicas}')\n",
    "print(f'Accuracy utilizando tf-idf y probabilidades logarítmicas: {accuracy_tf_idf_prob_logaritmicas}')"
   ]
  },
  {
   "cell_type": "code",
   "execution_count": 114,
   "metadata": {},
   "outputs": [
    {
     "name": "stdout",
     "output_type": "stream",
     "text": [
      "Accuracy utilizando m = 1: 1.3938315539739028\n",
      "Accuracy utilizando m = 948: 0.8896797153024912\n",
      "Accuracy utilizando m = 1895: 0.9193357058125742\n",
      "Accuracy utilizando m = 2842: 1.1269276393831553\n",
      "Accuracy utilizando m = 3789: 1.601423487544484\n",
      "Accuracy utilizando m = 4736: 1.482799525504152\n",
      "Accuracy utilizando m = 5683: 0.9786476868327402\n",
      "Accuracy utilizando m = 6630: 0.9489916963226572\n",
      "Accuracy utilizando m = 7577: 0.9489916963226572\n",
      "Accuracy utilizando m = 8524: 0.9193357058125742\n",
      "Accuracy utilizando m = 9471: 0.8896797153024912\n"
     ]
    }
   ],
   "source": [
    "valores_accuracy = []\n",
    "for m in range(1, cantidad_palabras_unicas, cantidad_palabras_unicas//10):\n",
    "    palabras_estimadas, probabilidades = evaluar(train_correcto, val_correcto_palabras_previas, 2, m, False, False)\n",
    "    accuracy = evaluacion_accuracy(val_correcto_ultima_palabra, palabras_estimadas)\n",
    "    valores_accuracy.append(accuracy)\n",
    "    print(f'Accuracy utilizando m = {m}: {accuracy}')"
   ]
  },
  {
   "cell_type": "code",
   "execution_count": 124,
   "metadata": {},
   "outputs": [
    {
     "data": {
      "image/png": "[encoded data removed]",
      "text/plain": [
       "<Figure size 640x480 with 1 Axes>"
      ]
     },
     "metadata": {},
     "output_type": "display_data"
    }
   ],
   "source": [
    "plt.plot(range(1, cantidad_palabras_unicas, cantidad_palabras_unicas//10), valores_accuracy, label=\"Valores de accuracy para distintos m\", color=\"blue\", linestyle=\"-\")\n",
    "\n",
    "plt.title(\"Valores de accuracy para distintos m\")\n",
    "plt.xlabel(\"Valor de m\")\n",
    "plt.ylabel(\"Accuracy\")\n",
    "plt.legend()\n",
    "\n",
    "plt.show()"
   ]
  },
  {
   "cell_type": "code",
   "execution_count": 117,
   "metadata": {},
   "outputs": [
    {
     "name": "stdout",
     "output_type": "stream",
     "text": [
      "Accuracy utilizando m = 1: 1.3938315539739028\n",
      "Accuracy utilizando m = 26: 1.3345195729537367\n",
      "Accuracy utilizando m = 51: 1.3048635824436536\n",
      "Accuracy utilizando m = 76: 1.7200474495848161\n",
      "Accuracy utilizando m = 101: 1.8683274021352312\n",
      "Accuracy utilizando m = 126: 1.8683274021352312\n",
      "Accuracy utilizando m = 151: 1.5124555160142348\n",
      "Accuracy utilizando m = 176: 1.4234875444839856\n",
      "Accuracy utilizando m = 201: 1.0676156583629894\n",
      "Accuracy utilizando m = 226: 0.9193357058125742\n",
      "Accuracy utilizando m = 251: 1.2158956109134045\n",
      "Accuracy utilizando m = 276: 1.3641755634638197\n",
      "Accuracy utilizando m = 301: 1.2752075919335706\n",
      "Accuracy utilizando m = 326: 1.2455516014234875\n",
      "Accuracy utilizando m = 351: 1.3641755634638197\n",
      "Accuracy utilizando m = 376: 1.2752075919335706\n",
      "Accuracy utilizando m = 401: 1.3641755634638197\n",
      "Accuracy utilizando m = 426: 1.453143534994069\n",
      "Accuracy utilizando m = 451: 1.0676156583629894\n",
      "Accuracy utilizando m = 476: 1.0972716488730723\n"
     ]
    }
   ],
   "source": [
    "valores_accuracy_2 = []\n",
    "for m in range(1, 500, 25):\n",
    "    palabras_estimadas, probabilidades = evaluar(train_correcto, val_correcto_palabras_previas, 2, m, False, False)\n",
    "    accuracy = evaluacion_accuracy(val_correcto_ultima_palabra, palabras_estimadas)\n",
    "    valores_accuracy_2.append(accuracy)\n",
    "    print(f'Accuracy utilizando m = {m}: {accuracy}')"
   ]
  },
  {
   "cell_type": "code",
   "execution_count": 123,
   "metadata": {},
   "outputs": [
    {
     "data": {
      "image/png": "[encoded data removed]",
      "text/plain": [
       "<Figure size 640x480 with 1 Axes>"
      ]
     },
     "metadata": {},
     "output_type": "display_data"
    }
   ],
   "source": [
    "plt.plot(range(1, 500, 25), valores_accuracy_2, label=\"Valores de accuracy para distintos m\", color=\"blue\", linestyle=\"-\")\n",
    "\n",
    "plt.title(\"Valores de accuracy para distintos m\")\n",
    "plt.xlabel(\"Valor de m\")\n",
    "plt.ylabel(\"Accuracy\")\n",
    "plt.legend()\n",
    "\n",
    "plt.show()"
   ]
  },
  {
   "cell_type": "markdown",
   "metadata": {},
   "source": [
    "### Evaluación en set de testeo"
   ]
  },
  {
   "cell_type": "code",
   "execution_count": 126,
   "metadata": {},
   "outputs": [
    {
     "name": "stdout",
     "output_type": "stream",
     "text": [
      "Accuracy utilizando conjunto de datos de testeo: 1.4825796886582654\n"
     ]
    }
   ],
   "source": [
    "palabras_estimadas_test, probabilidades_test = evaluar(train_correcto, test_correcto_palabras_previas, 2, 100, False, False)\n",
    "\n",
    "# evaluacion_accuracy\n",
    "accuracy_test = evaluacion_accuracy(test_correcto_ultima_palabra, palabras_estimadas_test)\n",
    "\n",
    "print(f'Accuracy utilizando conjunto de datos de testeo: {accuracy_test}')"
   ]
  },
  {
   "cell_type": "markdown",
   "metadata": {},
   "source": [
    "### Función cliente con la que se puede simular el comportamiento del algoritmo para predecir la siguiente palabra y reentrenar el algoritmo"
   ]
  },
  {
   "cell_type": "code",
   "execution_count": 135,
   "metadata": {},
   "outputs": [
    {
     "name": "stdout",
     "output_type": "stream",
     "text": [
      "Ingrese la frase dando ENTER luego de \u001b[3mcada palabra\u001b[0m.\n",
      "Ingrese sólo ENTER para aceptar la recomendación sugerida, o escriba la siguiente palabra y de ENTER\n",
      "Ingrese '.' para comenzar con una frase nueva.\n",
      "Ingrese '..' para terminar el proceso.\n",
      "hola como estan \u001b[3mustedes\u001b[0m\n",
      "Probabilidad de la palabra propuesta: 1.4347756161162903e-08\n",
      "hola como estan ustedes \u001b[3mquieren\u001b[0m\n",
      "Probabilidad de la palabra propuesta: 1.4322846862271994e-08\n",
      "hola como estan ustedes quieren \u001b[3mpueden\u001b[0m\n",
      "Probabilidad de la palabra propuesta: 1.429915510028833e-08\n",
      "hola como estan ustedes quieren pueden \u001b[3mcomer\u001b[0m\n",
      "Probabilidad de la palabra propuesta: 1.4321150354311999e-08\n",
      "----- Comenzando frase nueva -----\n"
     ]
    }
   ],
   "source": [
    "##### LOOP PRINCIPAL #####\n",
    "N = 2\n",
    "probabilidades_condicionales, probabilidades_previas = obtener_probabilidades_condicionales(lista_chats_lang_correcto, 2, 100, False)\n",
    "print(\"Ingrese la frase dando ENTER luego de \\x1b[3mcada palabra\\x1b[0m.\")\n",
    "print(\"Ingrese sólo ENTER para aceptar la recomendación sugerida, o escriba la siguiente palabra y de ENTER\")\n",
    "print(\"Ingrese '.' para comenzar con una frase nueva.\")\n",
    "print(\"Ingrese '..' para terminar el proceso.\")\n",
    "\n",
    "frase = []\n",
    "palabra_sugerida = \"\"\n",
    "while 1:\n",
    "    palabra = input(\">> \")\n",
    "\n",
    "    if palabra == \"..\":\n",
    "      break\n",
    "\n",
    "    elif palabra == \".\":\n",
    "      print(\"----- Comenzando frase nueva -----\")\n",
    "      #Con esto el algoritmo aprende, agregamos nuevas frases que el algoritmo utilizará\n",
    "      lista_frase = [word for phrase in frase for word in phrase.split()]\n",
    "      lista_chats_lang_correcto.append(lista_frase)\n",
    "      probabilidades_condicionales, probabilidades_previas = obtener_probabilidades_condicionales(lista_chats_lang_correcto, 2, 100, False)\n",
    "      frase = []\n",
    "\n",
    "    elif palabra == \"\": # acepta última palabra sugerida\n",
    "      frase.append(palabra_sugerida)\n",
    "\n",
    "    else: # escribió una palabra\n",
    "      frase.append(palabra)\n",
    "\n",
    "    if frase:\n",
    "      palabra_sugerida, probabilidad = recomendacion_bayesiana(frase, N, False, probabilidades_condicionales, probabilidades_previas)\n",
    "\n",
    "      frase_propuesta = frase.copy()\n",
    "      frase_propuesta.append(\"\\x1b[3m\"+ palabra_sugerida +\"\\x1b[0m\")\n",
    "      print(\" \".join(frase_propuesta))\n",
    "      print(f'Probabilidad de la palabra propuesta: {probabilidad}')"
   ]
  }
 ],
 "metadata": {
  "kernelspec": {
   "display_name": ".venv",
   "language": "python",
   "name": "python3"
  },
  "language_info": {
   "codemirror_mode": {
    "name": "ipython",
    "version": 3
   },
   "file_extension": ".py",
   "mimetype": "text/x-python",
   "name": "python",
   "nbconvert_exporter": "python",
   "pygments_lexer": "ipython3",
   "version": "3.11.5"
  },
  "orig_nbformat": 4
 },
 "nbformat": 4,
 "nbformat_minor": 2
}
